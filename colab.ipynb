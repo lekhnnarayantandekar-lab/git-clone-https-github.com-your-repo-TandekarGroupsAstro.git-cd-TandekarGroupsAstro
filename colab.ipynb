!pip install diffusers transformers accelerate safetensors gradio pillow rembg opencv-python ffmpeg-python --quiet
!pip install imageio[ffmpeg] --quiet

import gradio as gr
import torch, os, imageio, cv2, uuid
from diffusers import StableDiffusionPipeline
from diffusers import DiffusionPipeline
from diffusers import StableVideoDiffusionPipeline
from PIL import Image
import numpy as np
import ffmpeg
import tempfile
import shutil
import rembg

# 🔹 Global Vars
OUTPUT_DIR = "/content/outputs"
os.makedirs(OUTPUT_DIR, exist_ok=True)

# Load models lazily
sdxl_pipe = None
video_pipe = None

def load_sdxl():
    global sdxl_pipe
    if sdxl_pipe is None:
        sdxl_pipe = StableDiffusionPipeline.from_pretrained(
            "stabilityai/sdxl-turbo", torch_dtype=torch.float16, variant="fp16"
        ).to("cuda")
    return sdxl_pipe

def load_video_model():
    global video_pipe
    if video_pipe is None:
        video_pipe = DiffusionPipeline.from_pretrained(
            "damo-vilab/text-to-video-ms-1.7b", torch_dtype=torch.float16, variant="fp16"
        ).to("cuda")
    return video_pipe

# 🔹 Image Generation
def generate_image(prompt, steps, guidance, width, height, seed):
    pipe = load_sdxl()
    g = torch.Generator("cuda").manual_seed(int(seed)) if seed != -1 else None
    image = pipe(prompt, num_inference_steps=steps, guidance_scale=guidance,
                 width=width, height=height, generator=g).images[0]
    filename = f"{OUTPUT_DIR}/img_{uuid.uuid4().hex}.png"
    image.save(filename)
    return filename

# 🔹 Image to Image
def img2img(prompt, init_image, strength, steps, guidance, seed):
    pipe = load_sdxl()
    g = torch.Generator("cuda").manual_seed(int(seed)) if seed != -1 else None
    image = pipe(prompt, image=init_image, strength=strength,
                 num_inference_steps=steps, guidance_scale=guidance,
                 generator=g).images[0]
    filename = f"{OUTPUT_DIR}/img2img_{uuid.uuid4().hex}.png"
    image.save(filename)
    return filename

# 🔹 Remove BG
def remove_bg(input_image):
    img = Image.open(input_image)
    out = rembg.remove(img)
    filename = f"{OUTPUT_DIR}/nobg_{uuid.uuid4().hex}.png"
    out.save(filename)
    return filename

# 🔹 Upscale (simple resize)
def upscale_image(input_image, scale):
    img = Image.open(input_image)
    w, h = img.size
    new_size = (int(w*scale), int(h*scale))
    up = img.resize(new_size, Image.LANCZOS)
    filename = f"{OUTPUT_DIR}/upscaled_{uuid.uuid4().hex}.png"
    up.save(filename)
    return filename

# 🔹 Text to Video
def generate_video(prompt, steps, guidance, frames, fps, seed):
    pipe = load_video_model()
    g = torch.Generator("cuda").manual_seed(int(seed)) if seed != -1 else None
    result = pipe(prompt, num_inference_steps=steps, guidance_scale=guidance, num_frames=frames, generator=g)
    video_frames = result.frames[0]
    filename = f"{OUTPUT_DIR}/vid_{uuid.uuid4().hex}.mp4"
    imageio.mimwrite(filename, video_frames, fps=fps, quality=8)
    return filename

# 🔹 Slideshow
def make_slideshow(images, fps, music=None):
    temp_dir = tempfile.mkdtemp()
    paths = []
    for i, img in enumerate(images):
        outpath = os.path.join(temp_dir, f"frame_{i:03d}.png")
        Image.open(img).save(outpath)
        paths.append(outpath)
    video_out = f"{OUTPUT_DIR}/slideshow_{uuid.uuid4().hex}.mp4"

    (
        ffmpeg
        .input(os.path.join(temp_dir, 'frame_%03d.png'), framerate=fps)
        .output(video_out, vcodec='libx264', pix_fmt='yuv420p')
        .run(overwrite_output=True, quiet=True)
    )

    shutil.rmtree(temp_dir)
    return video_out

# 🔹 Gradio UI
with gr.Blocks(theme=gr.themes.Soft()) as demo:
    gr.Markdown("# 🎬 AI Video & Image Studio\nGenerate Images, Videos & Slideshows with Full Control")

    with gr.Tab("🖼️ Image"):
        with gr.Row():
            prompt = gr.Textbox(label="Prompt")
            steps = gr.Slider(1, 50, 4, step=1, label="Steps")
            guidance = gr.Slider(0.1, 10.0, 2.5, step=0.1, label="Guidance Scale")
        with gr.Row():
            width = gr.Slider(256, 1024, 512, step=64, label="Width")
            height = gr.Slider(256, 1024, 512, step=64, label="Height")
            seed = gr.Number(-1, label="Seed (-1=random)")
        gen_btn = gr.Button("Generate Image")
        out_img = gr.Image(label="Generated Image")
        gen_btn.click(generate_image, [prompt, steps, guidance, width, height, seed], out_img)

    with gr.Tab("🖌️ Image to Image"):
        init_img = gr.Image(type="pil", label="Input Image")
        prompt2 = gr.Textbox(label="Prompt")
        strength = gr.Slider(0.1, 1.0, 0.8, step=0.1, label="Strength")
        steps2 = gr.Slider(1, 50, 10, step=1, label="Steps")
        guidance2 = gr.Slider(0.1, 10.0, 2.5, step=0.1, label="Guidance")
        seed2 = gr.Number(-1, label="Seed")
        btn_img2img = gr.Button("Transform")
        out_img2 = gr.Image(label="Output")
        btn_img2img.click(img2img, [prompt2, init_img, strength, steps2, guidance2, seed2], out_img2)

    with gr.Tab("✂️ Tools"):
        with gr.Row():
            in_up = gr.Image(type="filepath", label="Image to Upscale/RemoveBG")
            scale = gr.Slider(1, 4, 2, step=1, label="Upscale Factor")
        btn_up = gr.Button("Upscale")
        btn_bg = gr.Button("Remove Background")
        out_tool = gr.Image(label="Output")
        btn_up.click(upscale_image, [in_up, scale], out_tool)
        btn_bg.click(remove_bg, [in_up], out_tool)

    with gr.Tab("🎥 Video"):
        promptv = gr.Textbox(label="Prompt")
        stepsv = gr.Slider(1, 50, 10, step=1, label="Steps")
        guidancev = gr.Slider(0.1, 10.0, 7.5, step=0.1, label="Guidance")
        frames = gr.Slider(8, 64, 16, step=4, label="Frames")
        fps = gr.Slider(1, 30, 8, step=1, label="FPS")
        seedv = gr.Number(-1, label="Seed")
        btn_vid = gr.Button("Generate Video")
        out_vid = gr.Video(label="Generated Video")
        btn_vid.click(generate_video, [promptv, stepsv, guidancev, frames, fps, seedv], out_vid)

    with gr.Tab("📽️ Slideshow"):
        imgs = gr.File(file_types=[".png", ".jpg"], file_types_display="multiple", type="file", label="Upload Images")
        fpss = gr.Slider(1, 30, 6, step=1, label="FPS")
        btn_slide = gr.Button("Make Slideshow")
        out_slide = gr.Video(label="Slideshow")
        btn_slide.click(make_slideshow, [imgs, fpss], out_slide)

demo.launch(share=True)
